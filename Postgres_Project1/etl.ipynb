{
 "cells": [
  {
   "cell_type": "markdown",
   "metadata": {
    "editable": true
   },
   "source": [
    "# ETL Processes\n",
    "Use this notebook to develop the ETL process for each of your tables before completing the `etl.py` file to load the whole datasets."
   ]
  },
  {
   "cell_type": "code",
   "execution_count": 25,
   "metadata": {
    "editable": true
   },
   "outputs": [],
   "source": [
    "import os\n",
    "import glob\n",
    "import psycopg2\n",
    "import pandas as pd\n",
    "from sql_queries import *"
   ]
  },
  {
   "cell_type": "code",
   "execution_count": 26,
   "metadata": {
    "editable": true
   },
   "outputs": [],
   "source": [
    "conn = psycopg2.connect(\"host=127.0.0.1 dbname=sparkifydb user=student password=student\")\n",
    "cur = conn.cursor()"
   ]
  },
  {
   "cell_type": "code",
   "execution_count": 27,
   "metadata": {
    "editable": true
   },
   "outputs": [],
   "source": [
    "def get_files(filepath):\n",
    "    all_files = []\n",
    "    for root, dirs, files in os.walk(filepath):\n",
    "        files = glob.glob(os.path.join(root,'*.json'))\n",
    "        for f in files :\n",
    "            all_files.append(os.path.abspath(f))\n",
    "    \n",
    "    return all_files"
   ]
  },
  {
   "cell_type": "markdown",
   "metadata": {
    "editable": true
   },
   "source": [
    "# Process `song_data`\n",
    "In this first part, you'll perform ETL on the first dataset, `song_data`, to create the `songs` and `artists` dimensional tables.\n",
    "\n",
    "Let's perform ETL on a single song file and load a single record into each table to start.\n",
    "- Use the `get_files` function provided above to get a list of all song JSON files in `data/song_data`\n",
    "- Select the first song in this list\n",
    "- Read the song file and view the data"
   ]
  },
  {
   "cell_type": "code",
   "execution_count": 6,
   "metadata": {
    "editable": true
   },
   "outputs": [],
   "source": [
    "song_files = get_files('data/song_data')"
   ]
  },
  {
   "cell_type": "code",
   "execution_count": 7,
   "metadata": {
    "editable": true
   },
   "outputs": [],
   "source": [
    "filepath = song_files[0]"
   ]
  },
  {
   "cell_type": "code",
   "execution_count": 8,
   "metadata": {
    "editable": true
   },
   "outputs": [
    {
     "data": {
      "text/html": [
       "<div>\n",
       "<style scoped>\n",
       "    .dataframe tbody tr th:only-of-type {\n",
       "        vertical-align: middle;\n",
       "    }\n",
       "\n",
       "    .dataframe tbody tr th {\n",
       "        vertical-align: top;\n",
       "    }\n",
       "\n",
       "    .dataframe thead th {\n",
       "        text-align: right;\n",
       "    }\n",
       "</style>\n",
       "<table border=\"1\" class=\"dataframe\">\n",
       "  <thead>\n",
       "    <tr style=\"text-align: right;\">\n",
       "      <th></th>\n",
       "      <th>artist_id</th>\n",
       "      <th>artist_latitude</th>\n",
       "      <th>artist_location</th>\n",
       "      <th>artist_longitude</th>\n",
       "      <th>artist_name</th>\n",
       "      <th>duration</th>\n",
       "      <th>num_songs</th>\n",
       "      <th>song_id</th>\n",
       "      <th>title</th>\n",
       "      <th>year</th>\n",
       "    </tr>\n",
       "  </thead>\n",
       "  <tbody>\n",
       "    <tr>\n",
       "      <th>0</th>\n",
       "      <td>AR8IEZO1187B99055E</td>\n",
       "      <td>NaN</td>\n",
       "      <td></td>\n",
       "      <td>NaN</td>\n",
       "      <td>Marc Shaiman</td>\n",
       "      <td>149.86404</td>\n",
       "      <td>1</td>\n",
       "      <td>SOINLJW12A8C13314C</td>\n",
       "      <td>City Slickers</td>\n",
       "      <td>2008</td>\n",
       "    </tr>\n",
       "  </tbody>\n",
       "</table>\n",
       "</div>"
      ],
      "text/plain": [
       "            artist_id  artist_latitude artist_location  artist_longitude  \\\n",
       "0  AR8IEZO1187B99055E              NaN                               NaN   \n",
       "\n",
       "    artist_name   duration  num_songs             song_id          title  year  \n",
       "0  Marc Shaiman  149.86404          1  SOINLJW12A8C13314C  City Slickers  2008  "
      ]
     },
     "execution_count": 8,
     "metadata": {},
     "output_type": "execute_result"
    }
   ],
   "source": [
    "df = df=pd.read_json(filepath,lines=True,orient='columns')\n",
    "df"
   ]
  },
  {
   "cell_type": "markdown",
   "metadata": {
    "editable": true
   },
   "source": [
    "## #1: `songs` Table\n",
    "#### Extract Data for Songs Table\n",
    "- Select columns for song ID, title, artist ID, year, and duration\n",
    "- Use `df.values` to select just the values from the dataframe\n",
    "- Index to select the first (only) record in the dataframe\n",
    "- Convert the array to a list and set it to `song_data`"
   ]
  },
  {
   "cell_type": "code",
   "execution_count": 9,
   "metadata": {
    "editable": true
   },
   "outputs": [
    {
     "data": {
      "text/plain": [
       "('SOINLJW12A8C13314C', 'City Slickers', 'AR8IEZO1187B99055E', 2008, 149.86404)"
      ]
     },
     "execution_count": 9,
     "metadata": {},
     "output_type": "execute_result"
    }
   ],
   "source": [
    "song_data = (df.values[0][7], df.values[0][8], df.values[0][0], df.values[0][9], df.values[0][5])\n",
    "song_data"
   ]
  },
  {
   "cell_type": "markdown",
   "metadata": {
    "editable": true
   },
   "source": [
    "#### Insert Record into Song Table\n",
    "Implement the `song_table_insert` query in `sql_queries.py` and run the cell below to insert a record for this song into the `songs` table. Remember to run `create_tables.py` before running the cell below to ensure you've created/resetted the `songs` table in the sparkify database."
   ]
  },
  {
   "cell_type": "code",
   "execution_count": 10,
   "metadata": {
    "editable": true
   },
   "outputs": [],
   "source": [
    "cur.execute(song_table_insert, song_data)\n",
    "conn.commit()"
   ]
  },
  {
   "cell_type": "markdown",
   "metadata": {
    "editable": true
   },
   "source": [
    "Run `test.ipynb` to see if you've successfully added a record to this table."
   ]
  },
  {
   "cell_type": "markdown",
   "metadata": {
    "editable": true
   },
   "source": [
    "## #2: `artists` Table\n",
    "#### Extract Data for Artists Table\n",
    "- Select columns for artist ID, name, location, latitude, and longitude\n",
    "- Use `df.values` to select just the values from the dataframe\n",
    "- Index to select the first (only) record in the dataframe\n",
    "- Convert the array to a list and set it to `artist_data`"
   ]
  },
  {
   "cell_type": "code",
   "execution_count": 11,
   "metadata": {
    "editable": true
   },
   "outputs": [
    {
     "data": {
      "text/plain": [
       "('AR8IEZO1187B99055E', 'Marc Shaiman', '', nan, nan)"
      ]
     },
     "execution_count": 11,
     "metadata": {},
     "output_type": "execute_result"
    }
   ],
   "source": [
    "artist_data = (df.values[0][0], df.values[0][4], df.values[0][2], df.values[0][1], df.values[0][3])\n",
    "artist_data"
   ]
  },
  {
   "cell_type": "markdown",
   "metadata": {
    "editable": true
   },
   "source": [
    "#### Insert Record into Artist Table\n",
    "Implement the `artist_table_insert` query in `sql_queries.py` and run the cell below to insert a record for this song's artist into the `artists` table. Remember to run `create_tables.py` before running the cell below to ensure you've created/resetted the `artists` table in the sparkify database."
   ]
  },
  {
   "cell_type": "code",
   "execution_count": 12,
   "metadata": {
    "editable": true
   },
   "outputs": [],
   "source": [
    "cur.execute(artist_table_insert, artist_data)\n",
    "conn.commit()"
   ]
  },
  {
   "cell_type": "markdown",
   "metadata": {
    "editable": true
   },
   "source": [
    "Run `test.ipynb` to see if you've successfully added a record to this table."
   ]
  },
  {
   "cell_type": "markdown",
   "metadata": {
    "editable": true
   },
   "source": [
    "# Process `log_data`\n",
    "In this part, you'll perform ETL on the second dataset, `log_data`, to create the `time` and `users` dimensional tables, as well as the `songplays` fact table.\n",
    "\n",
    "Let's perform ETL on a single log file and load a single record into each table.\n",
    "- Use the `get_files` function provided above to get a list of all log JSON files in `data/log_data`\n",
    "- Select the first log file in this list\n",
    "- Read the log file and view the data"
   ]
  },
  {
   "cell_type": "code",
   "execution_count": 28,
   "metadata": {
    "editable": true
   },
   "outputs": [],
   "source": [
    "log_files = get_files(\"./data/log_data\")"
   ]
  },
  {
   "cell_type": "code",
   "execution_count": 49,
   "metadata": {
    "editable": true
   },
   "outputs": [
    {
     "data": {
      "text/plain": [
       "'/home/workspace/data/log_data/2018/11/2018-11-01-events.json'"
      ]
     },
     "execution_count": 49,
     "metadata": {},
     "output_type": "execute_result"
    }
   ],
   "source": [
    "filepath = log_files[19]\n",
    "filepath"
   ]
  },
  {
   "cell_type": "code",
   "execution_count": 53,
   "metadata": {
    "editable": true
   },
   "outputs": [
    {
     "data": {
      "text/html": [
       "<div>\n",
       "<style scoped>\n",
       "    .dataframe tbody tr th:only-of-type {\n",
       "        vertical-align: middle;\n",
       "    }\n",
       "\n",
       "    .dataframe tbody tr th {\n",
       "        vertical-align: top;\n",
       "    }\n",
       "\n",
       "    .dataframe thead th {\n",
       "        text-align: right;\n",
       "    }\n",
       "</style>\n",
       "<table border=\"1\" class=\"dataframe\">\n",
       "  <thead>\n",
       "    <tr style=\"text-align: right;\">\n",
       "      <th></th>\n",
       "      <th>artist</th>\n",
       "      <th>auth</th>\n",
       "      <th>firstName</th>\n",
       "      <th>gender</th>\n",
       "      <th>itemInSession</th>\n",
       "      <th>lastName</th>\n",
       "      <th>length</th>\n",
       "      <th>level</th>\n",
       "      <th>location</th>\n",
       "      <th>method</th>\n",
       "      <th>page</th>\n",
       "      <th>registration</th>\n",
       "      <th>sessionId</th>\n",
       "      <th>song</th>\n",
       "      <th>status</th>\n",
       "      <th>ts</th>\n",
       "      <th>userAgent</th>\n",
       "      <th>userId</th>\n",
       "    </tr>\n",
       "  </thead>\n",
       "  <tbody>\n",
       "    <tr>\n",
       "      <th>0</th>\n",
       "      <td>None</td>\n",
       "      <td>Logged In</td>\n",
       "      <td>Walter</td>\n",
       "      <td>M</td>\n",
       "      <td>0</td>\n",
       "      <td>Frye</td>\n",
       "      <td>NaN</td>\n",
       "      <td>free</td>\n",
       "      <td>San Francisco-Oakland-Hayward, CA</td>\n",
       "      <td>GET</td>\n",
       "      <td>Home</td>\n",
       "      <td>1540919166796</td>\n",
       "      <td>38</td>\n",
       "      <td>None</td>\n",
       "      <td>200</td>\n",
       "      <td>1541105830796</td>\n",
       "      <td>\"Mozilla/5.0 (Macintosh; Intel Mac OS X 10_9_4...</td>\n",
       "      <td>39</td>\n",
       "    </tr>\n",
       "    <tr>\n",
       "      <th>1</th>\n",
       "      <td>None</td>\n",
       "      <td>Logged In</td>\n",
       "      <td>Kaylee</td>\n",
       "      <td>F</td>\n",
       "      <td>0</td>\n",
       "      <td>Summers</td>\n",
       "      <td>NaN</td>\n",
       "      <td>free</td>\n",
       "      <td>Phoenix-Mesa-Scottsdale, AZ</td>\n",
       "      <td>GET</td>\n",
       "      <td>Home</td>\n",
       "      <td>1540344794796</td>\n",
       "      <td>139</td>\n",
       "      <td>None</td>\n",
       "      <td>200</td>\n",
       "      <td>1541106106796</td>\n",
       "      <td>\"Mozilla/5.0 (Windows NT 6.1; WOW64) AppleWebK...</td>\n",
       "      <td>8</td>\n",
       "    </tr>\n",
       "    <tr>\n",
       "      <th>2</th>\n",
       "      <td>Des'ree</td>\n",
       "      <td>Logged In</td>\n",
       "      <td>Kaylee</td>\n",
       "      <td>F</td>\n",
       "      <td>1</td>\n",
       "      <td>Summers</td>\n",
       "      <td>246.30812</td>\n",
       "      <td>free</td>\n",
       "      <td>Phoenix-Mesa-Scottsdale, AZ</td>\n",
       "      <td>PUT</td>\n",
       "      <td>NextSong</td>\n",
       "      <td>1540344794796</td>\n",
       "      <td>139</td>\n",
       "      <td>You Gotta Be</td>\n",
       "      <td>200</td>\n",
       "      <td>1541106106796</td>\n",
       "      <td>\"Mozilla/5.0 (Windows NT 6.1; WOW64) AppleWebK...</td>\n",
       "      <td>8</td>\n",
       "    </tr>\n",
       "    <tr>\n",
       "      <th>3</th>\n",
       "      <td>None</td>\n",
       "      <td>Logged In</td>\n",
       "      <td>Kaylee</td>\n",
       "      <td>F</td>\n",
       "      <td>2</td>\n",
       "      <td>Summers</td>\n",
       "      <td>NaN</td>\n",
       "      <td>free</td>\n",
       "      <td>Phoenix-Mesa-Scottsdale, AZ</td>\n",
       "      <td>GET</td>\n",
       "      <td>Upgrade</td>\n",
       "      <td>1540344794796</td>\n",
       "      <td>139</td>\n",
       "      <td>None</td>\n",
       "      <td>200</td>\n",
       "      <td>1541106132796</td>\n",
       "      <td>\"Mozilla/5.0 (Windows NT 6.1; WOW64) AppleWebK...</td>\n",
       "      <td>8</td>\n",
       "    </tr>\n",
       "    <tr>\n",
       "      <th>4</th>\n",
       "      <td>Mr Oizo</td>\n",
       "      <td>Logged In</td>\n",
       "      <td>Kaylee</td>\n",
       "      <td>F</td>\n",
       "      <td>3</td>\n",
       "      <td>Summers</td>\n",
       "      <td>144.03873</td>\n",
       "      <td>free</td>\n",
       "      <td>Phoenix-Mesa-Scottsdale, AZ</td>\n",
       "      <td>PUT</td>\n",
       "      <td>NextSong</td>\n",
       "      <td>1540344794796</td>\n",
       "      <td>139</td>\n",
       "      <td>Flat 55</td>\n",
       "      <td>200</td>\n",
       "      <td>1541106352796</td>\n",
       "      <td>\"Mozilla/5.0 (Windows NT 6.1; WOW64) AppleWebK...</td>\n",
       "      <td>8</td>\n",
       "    </tr>\n",
       "  </tbody>\n",
       "</table>\n",
       "</div>"
      ],
      "text/plain": [
       "    artist       auth firstName gender  itemInSession lastName     length  \\\n",
       "0     None  Logged In    Walter      M              0     Frye        NaN   \n",
       "1     None  Logged In    Kaylee      F              0  Summers        NaN   \n",
       "2  Des'ree  Logged In    Kaylee      F              1  Summers  246.30812   \n",
       "3     None  Logged In    Kaylee      F              2  Summers        NaN   \n",
       "4  Mr Oizo  Logged In    Kaylee      F              3  Summers  144.03873   \n",
       "\n",
       "  level                           location method      page   registration  \\\n",
       "0  free  San Francisco-Oakland-Hayward, CA    GET      Home  1540919166796   \n",
       "1  free        Phoenix-Mesa-Scottsdale, AZ    GET      Home  1540344794796   \n",
       "2  free        Phoenix-Mesa-Scottsdale, AZ    PUT  NextSong  1540344794796   \n",
       "3  free        Phoenix-Mesa-Scottsdale, AZ    GET   Upgrade  1540344794796   \n",
       "4  free        Phoenix-Mesa-Scottsdale, AZ    PUT  NextSong  1540344794796   \n",
       "\n",
       "   sessionId          song  status             ts  \\\n",
       "0         38          None     200  1541105830796   \n",
       "1        139          None     200  1541106106796   \n",
       "2        139  You Gotta Be     200  1541106106796   \n",
       "3        139          None     200  1541106132796   \n",
       "4        139       Flat 55     200  1541106352796   \n",
       "\n",
       "                                           userAgent  userId  \n",
       "0  \"Mozilla/5.0 (Macintosh; Intel Mac OS X 10_9_4...      39  \n",
       "1  \"Mozilla/5.0 (Windows NT 6.1; WOW64) AppleWebK...       8  \n",
       "2  \"Mozilla/5.0 (Windows NT 6.1; WOW64) AppleWebK...       8  \n",
       "3  \"Mozilla/5.0 (Windows NT 6.1; WOW64) AppleWebK...       8  \n",
       "4  \"Mozilla/5.0 (Windows NT 6.1; WOW64) AppleWebK...       8  "
      ]
     },
     "execution_count": 53,
     "metadata": {},
     "output_type": "execute_result"
    }
   ],
   "source": [
    "df = pd.DataFrame(pd.read_json(filepath, lines=True, orient='columns'))\n",
    "df_orig=df\n",
    "df.head(5)"
   ]
  },
  {
   "cell_type": "markdown",
   "metadata": {
    "editable": true
   },
   "source": [
    "## #3: `time` Table\n",
    "#### Extract Data for Time Table\n",
    "- Filter records by `NextSong` action\n",
    "- Convert the `ts` timestamp column to datetime\n",
    "  - Hint: the current timestamp is in milliseconds\n",
    "- Extract the timestamp, hour, day, week of year, month, year, and weekday from the `ts` column and set `time_data` to a list containing these values in order\n",
    "  - Hint: use pandas' [`dt` attribute](https://pandas.pydata.org/pandas-docs/stable/reference/api/pandas.Series.dt.html) to access easily datetimelike properties.\n",
    "- Specify labels for these columns and set to `column_labels`\n",
    "- Create a dataframe, `time_df,` containing the time data for this file by combining `column_labels` and `time_data` into a dictionary and converting this into a dataframe"
   ]
  },
  {
   "cell_type": "code",
   "execution_count": 13,
   "metadata": {
    "editable": true
   },
   "outputs": [
    {
     "data": {
      "text/html": [
       "<div>\n",
       "<style scoped>\n",
       "    .dataframe tbody tr th:only-of-type {\n",
       "        vertical-align: middle;\n",
       "    }\n",
       "\n",
       "    .dataframe tbody tr th {\n",
       "        vertical-align: top;\n",
       "    }\n",
       "\n",
       "    .dataframe thead th {\n",
       "        text-align: right;\n",
       "    }\n",
       "</style>\n",
       "<table border=\"1\" class=\"dataframe\">\n",
       "  <thead>\n",
       "    <tr style=\"text-align: right;\">\n",
       "      <th></th>\n",
       "      <th>artist</th>\n",
       "      <th>auth</th>\n",
       "      <th>firstName</th>\n",
       "      <th>gender</th>\n",
       "      <th>itemInSession</th>\n",
       "      <th>lastName</th>\n",
       "      <th>length</th>\n",
       "      <th>level</th>\n",
       "      <th>location</th>\n",
       "      <th>method</th>\n",
       "      <th>page</th>\n",
       "      <th>registration</th>\n",
       "      <th>sessionId</th>\n",
       "      <th>song</th>\n",
       "      <th>status</th>\n",
       "      <th>ts</th>\n",
       "      <th>userAgent</th>\n",
       "      <th>userId</th>\n",
       "    </tr>\n",
       "  </thead>\n",
       "  <tbody>\n",
       "    <tr>\n",
       "      <th>0</th>\n",
       "      <td>Sydney Youngblood</td>\n",
       "      <td>Logged In</td>\n",
       "      <td>Jacob</td>\n",
       "      <td>M</td>\n",
       "      <td>53</td>\n",
       "      <td>Klein</td>\n",
       "      <td>238.07955</td>\n",
       "      <td>paid</td>\n",
       "      <td>Tampa-St. Petersburg-Clearwater, FL</td>\n",
       "      <td>PUT</td>\n",
       "      <td>NextSong</td>\n",
       "      <td>1.540558e+12</td>\n",
       "      <td>954</td>\n",
       "      <td>Ain't No Sunshine</td>\n",
       "      <td>200</td>\n",
       "      <td>1543449657796</td>\n",
       "      <td>\"Mozilla/5.0 (Macintosh; Intel Mac OS X 10_9_4...</td>\n",
       "      <td>73</td>\n",
       "    </tr>\n",
       "  </tbody>\n",
       "</table>\n",
       "</div>"
      ],
      "text/plain": [
       "              artist       auth firstName gender  itemInSession lastName  \\\n",
       "0  Sydney Youngblood  Logged In     Jacob      M             53    Klein   \n",
       "\n",
       "      length level                             location method      page  \\\n",
       "0  238.07955  paid  Tampa-St. Petersburg-Clearwater, FL    PUT  NextSong   \n",
       "\n",
       "   registration  sessionId               song  status             ts  \\\n",
       "0  1.540558e+12        954  Ain't No Sunshine     200  1543449657796   \n",
       "\n",
       "                                           userAgent userId  \n",
       "0  \"Mozilla/5.0 (Macintosh; Intel Mac OS X 10_9_4...     73  "
      ]
     },
     "execution_count": 13,
     "metadata": {},
     "output_type": "execute_result"
    }
   ],
   "source": [
    "df = df[df['page']=='NextSong']\n",
    "df.head(1)"
   ]
  },
  {
   "cell_type": "code",
   "execution_count": 14,
   "metadata": {
    "editable": true
   },
   "outputs": [
    {
     "data": {
      "text/plain": [
       "0   2018-11-29 00:00:57.796\n",
       "1   2018-11-29 00:01:30.796\n",
       "2   2018-11-29 00:04:01.796\n",
       "3   2018-11-29 00:04:55.796\n",
       "4   2018-11-29 00:07:13.796\n",
       "Name: ts, dtype: datetime64[ns]"
      ]
     },
     "execution_count": 14,
     "metadata": {},
     "output_type": "execute_result"
    }
   ],
   "source": [
    "t = pd.to_datetime(df['ts'], unit='ms')\n",
    "t.head()"
   ]
  },
  {
   "cell_type": "code",
   "execution_count": 16,
   "metadata": {
    "editable": true
   },
   "outputs": [],
   "source": [
    "time_data = list(zip(t.dt.strftime('%Y-%m-%d %I:%M:%S'), t.dt.hour, t.dt.day, t.dt.week, t.dt.month, t.dt.year, t.dt.weekday))\n",
    "column_labels = ('start_time', 'hour', 'day', 'week', 'month', 'year', 'weekday')"
   ]
  },
  {
   "cell_type": "code",
   "execution_count": 17,
   "metadata": {
    "editable": true
   },
   "outputs": [
    {
     "data": {
      "text/html": [
       "<div>\n",
       "<style scoped>\n",
       "    .dataframe tbody tr th:only-of-type {\n",
       "        vertical-align: middle;\n",
       "    }\n",
       "\n",
       "    .dataframe tbody tr th {\n",
       "        vertical-align: top;\n",
       "    }\n",
       "\n",
       "    .dataframe thead th {\n",
       "        text-align: right;\n",
       "    }\n",
       "</style>\n",
       "<table border=\"1\" class=\"dataframe\">\n",
       "  <thead>\n",
       "    <tr style=\"text-align: right;\">\n",
       "      <th></th>\n",
       "      <th>start_time</th>\n",
       "      <th>hour</th>\n",
       "      <th>day</th>\n",
       "      <th>week</th>\n",
       "      <th>month</th>\n",
       "      <th>year</th>\n",
       "      <th>weekday</th>\n",
       "    </tr>\n",
       "  </thead>\n",
       "  <tbody>\n",
       "    <tr>\n",
       "      <th>0</th>\n",
       "      <td>2018-11-29 12:00:57</td>\n",
       "      <td>0</td>\n",
       "      <td>29</td>\n",
       "      <td>48</td>\n",
       "      <td>11</td>\n",
       "      <td>2018</td>\n",
       "      <td>3</td>\n",
       "    </tr>\n",
       "    <tr>\n",
       "      <th>1</th>\n",
       "      <td>2018-11-29 12:01:30</td>\n",
       "      <td>0</td>\n",
       "      <td>29</td>\n",
       "      <td>48</td>\n",
       "      <td>11</td>\n",
       "      <td>2018</td>\n",
       "      <td>3</td>\n",
       "    </tr>\n",
       "    <tr>\n",
       "      <th>2</th>\n",
       "      <td>2018-11-29 12:04:01</td>\n",
       "      <td>0</td>\n",
       "      <td>29</td>\n",
       "      <td>48</td>\n",
       "      <td>11</td>\n",
       "      <td>2018</td>\n",
       "      <td>3</td>\n",
       "    </tr>\n",
       "    <tr>\n",
       "      <th>3</th>\n",
       "      <td>2018-11-29 12:04:55</td>\n",
       "      <td>0</td>\n",
       "      <td>29</td>\n",
       "      <td>48</td>\n",
       "      <td>11</td>\n",
       "      <td>2018</td>\n",
       "      <td>3</td>\n",
       "    </tr>\n",
       "    <tr>\n",
       "      <th>4</th>\n",
       "      <td>2018-11-29 12:07:13</td>\n",
       "      <td>0</td>\n",
       "      <td>29</td>\n",
       "      <td>48</td>\n",
       "      <td>11</td>\n",
       "      <td>2018</td>\n",
       "      <td>3</td>\n",
       "    </tr>\n",
       "  </tbody>\n",
       "</table>\n",
       "</div>"
      ],
      "text/plain": [
       "            start_time  hour  day  week  month  year  weekday\n",
       "0  2018-11-29 12:00:57     0   29    48     11  2018        3\n",
       "1  2018-11-29 12:01:30     0   29    48     11  2018        3\n",
       "2  2018-11-29 12:04:01     0   29    48     11  2018        3\n",
       "3  2018-11-29 12:04:55     0   29    48     11  2018        3\n",
       "4  2018-11-29 12:07:13     0   29    48     11  2018        3"
      ]
     },
     "execution_count": 17,
     "metadata": {},
     "output_type": "execute_result"
    }
   ],
   "source": [
    "time_df = pd.DataFrame(time_data,columns=column_labels)\n",
    "time_df.head()"
   ]
  },
  {
   "cell_type": "markdown",
   "metadata": {
    "editable": true
   },
   "source": [
    "#### Insert Records into Time Table\n",
    "Implement the `time_table_insert` query in `sql_queries.py` and run the cell below to insert records for the timestamps in this log file into the `time` table. Remember to run `create_tables.py` before running the cell below to ensure you've created/resetted the `time` table in the sparkify database."
   ]
  },
  {
   "cell_type": "code",
   "execution_count": 27,
   "metadata": {
    "editable": true
   },
   "outputs": [],
   "source": [
    "for i, row in time_df.iterrows():\n",
    "    cur.execute(time_table_insert, list(row))\n",
    "    conn.commit()"
   ]
  },
  {
   "cell_type": "markdown",
   "metadata": {
    "editable": true
   },
   "source": [
    "Run `test.ipynb` to see if you've successfully added records to this table."
   ]
  },
  {
   "cell_type": "markdown",
   "metadata": {
    "editable": true
   },
   "source": [
    "## #4: `users` Table\n",
    "#### Extract Data for Users Table\n",
    "- Select columns for user ID, first name, last name, gender and level and set to `user_df`"
   ]
  },
  {
   "cell_type": "code",
   "execution_count": 59,
   "metadata": {
    "editable": true
   },
   "outputs": [
    {
     "data": {
      "text/html": [
       "<div>\n",
       "<style scoped>\n",
       "    .dataframe tbody tr th:only-of-type {\n",
       "        vertical-align: middle;\n",
       "    }\n",
       "\n",
       "    .dataframe tbody tr th {\n",
       "        vertical-align: top;\n",
       "    }\n",
       "\n",
       "    .dataframe thead th {\n",
       "        text-align: right;\n",
       "    }\n",
       "</style>\n",
       "<table border=\"1\" class=\"dataframe\">\n",
       "  <thead>\n",
       "    <tr style=\"text-align: right;\">\n",
       "      <th></th>\n",
       "      <th>user_id</th>\n",
       "      <th>first_name</th>\n",
       "      <th>last_name</th>\n",
       "      <th>gender</th>\n",
       "      <th>level</th>\n",
       "    </tr>\n",
       "  </thead>\n",
       "  <tbody>\n",
       "    <tr>\n",
       "      <th>0</th>\n",
       "      <td>39</td>\n",
       "      <td>Walter</td>\n",
       "      <td>Frye</td>\n",
       "      <td>M</td>\n",
       "      <td>free</td>\n",
       "    </tr>\n",
       "    <tr>\n",
       "      <th>1</th>\n",
       "      <td>8</td>\n",
       "      <td>Kaylee</td>\n",
       "      <td>Summers</td>\n",
       "      <td>F</td>\n",
       "      <td>free</td>\n",
       "    </tr>\n",
       "    <tr>\n",
       "      <th>10</th>\n",
       "      <td>10</td>\n",
       "      <td>Sylvie</td>\n",
       "      <td>Cruz</td>\n",
       "      <td>F</td>\n",
       "      <td>free</td>\n",
       "    </tr>\n",
       "    <tr>\n",
       "      <th>11</th>\n",
       "      <td>26</td>\n",
       "      <td>Ryan</td>\n",
       "      <td>Smith</td>\n",
       "      <td>M</td>\n",
       "      <td>free</td>\n",
       "    </tr>\n",
       "    <tr>\n",
       "      <th>14</th>\n",
       "      <td>101</td>\n",
       "      <td>Jayden</td>\n",
       "      <td>Fox</td>\n",
       "      <td>M</td>\n",
       "      <td>free</td>\n",
       "    </tr>\n",
       "  </tbody>\n",
       "</table>\n",
       "</div>"
      ],
      "text/plain": [
       "    user_id first_name last_name gender level\n",
       "0        39     Walter      Frye      M  free\n",
       "1         8     Kaylee   Summers      F  free\n",
       "10       10     Sylvie      Cruz      F  free\n",
       "11       26       Ryan     Smith      M  free\n",
       "14      101     Jayden       Fox      M  free"
      ]
     },
     "execution_count": 59,
     "metadata": {},
     "output_type": "execute_result"
    }
   ],
   "source": [
    "user_data = df_orig.get(['userId', 'firstName', 'lastName', 'gender', 'level'])\n",
    "user_data.columns = ['user_id', 'first_name', 'last_name', 'gender', 'level']\n",
    "\n",
    "#user_data['user_id']=user_data['user_id'].astype(str)\n",
    "user_data=user_data[user_data['user_id'].astype(str)!= '']\n",
    "#user_data=user_data[user_data['user_id'].notnull()]\n",
    "user_data.drop_duplicates(subset =\"user_id\", keep='first',inplace = True) \n",
    "\n",
    "user_df = user_data\n",
    "user_df"
   ]
  },
  {
   "cell_type": "markdown",
   "metadata": {
    "editable": true
   },
   "source": [
    "#### Insert Records into Users Table\n",
    "Implement the `user_table_insert` query in `sql_queries.py` and run the cell below to insert records for the users in this log file into the `users` table. Remember to run `create_tables.py` before running the cell below to ensure you've created/resetted the `users` table in the sparkify database."
   ]
  },
  {
   "cell_type": "code",
   "execution_count": 38,
   "metadata": {
    "editable": true
   },
   "outputs": [],
   "source": [
    "for i, row in user_df.iterrows():\n",
    "    cur.execute(user_table_insert, row)\n",
    "    conn.commit()"
   ]
  },
  {
   "cell_type": "markdown",
   "metadata": {
    "editable": true
   },
   "source": [
    "Run `test.ipynb` to see if you've successfully added records to this table."
   ]
  },
  {
   "cell_type": "markdown",
   "metadata": {
    "editable": true
   },
   "source": [
    "## #5: `songplays` Table\n",
    "#### Extract Data and Songplays Table\n",
    "This one is a little more complicated since information from the songs table, artists table, and original log file are all needed for the `songplays` table. Since the log file does not specify an ID for either the song or the artist, you'll need to get the song ID and artist ID by querying the songs and artists tables to find matches based on song title, artist name, and song duration time.\n",
    "- Implement the `song_select` query in `sql_queries.py` to find the song ID and artist ID based on the title, artist name, and duration of a song.\n",
    "- Select the timestamp, user ID, level, song ID, artist ID, session ID, location, and user agent and set to `songplay_data`\n",
    "\n",
    "#### Insert Records into Songplays Table\n",
    "- Implement the `songplay_table_insert` query and run the cell below to insert records for the songplay actions in this log file into the `songplays` table. Remember to run `create_tables.py` before running the cell below to ensure you've created/resetted the `songplays` table in the sparkify database."
   ]
  },
  {
   "cell_type": "code",
   "execution_count": 45,
   "metadata": {
    "editable": true
   },
   "outputs": [
    {
     "name": "stdout",
     "output_type": "stream",
     "text": [
      "                             artist       auth firstName gender  \\\n",
      "0                 Sydney Youngblood  Logged In     Jacob      M   \n",
      "1                        Gang Starr  Logged In     Layla      F   \n",
      "2                             3OH!3  Logged In     Layla      F   \n",
      "3                       RÃÂ¶yksopp  Logged In     Jacob      M   \n",
      "4                        Kajagoogoo  Logged In     Layla      F   \n",
      "5            The Jimmy Castor Bunch  Logged In     Layla      F   \n",
      "6                          Ministry  Logged In     Jacob      M   \n",
      "7                    Bouncing Souls  Logged In     Jacob      M   \n",
      "8                    Tegan And Sara  Logged In     Layla      F   \n",
      "9                       Silverchair  Logged In     Layla      F   \n",
      "10                           Enigma  Logged In     Layla      F   \n",
      "11                             Anis  Logged In     Layla      F   \n",
      "12                             Seal  Logged In     Layla      F   \n",
      "13           UNKLE Feat. Josh Homme  Logged In     Layla      F   \n",
      "14                    Dwight Yoakam  Logged In     Layla      F   \n",
      "15                         Elastica  Logged In     Layla      F   \n",
      "16                 Capone-N-Noreaga  Logged In     Layla      F   \n",
      "17                       Morris Day  Logged In     Layla      F   \n",
      "18                     Foo Fighters  Logged In     Layla      F   \n",
      "19                            Olive  Logged In     Layla      F   \n",
      "20                   Olle Adolphson  Logged In     Layla      F   \n",
      "21            Streetlight Manifesto  Logged In       Ava      F   \n",
      "22                      Frank Reyes  Logged In     Layla      F   \n",
      "23                  Andres Calamaro  Logged In     Layla      F   \n",
      "24                           Zero 7  Logged In     Layla      F   \n",
      "25    Mark Ronson featuring Tiggers  Logged In     Layla      F   \n",
      "26                      Keith Sweat  Logged In     Layla      F   \n",
      "27                     Wakey!Wakey!  Logged In     Layla      F   \n",
      "28              The Mercury Program  Logged In     Layla      F   \n",
      "29   Kid Cudi / Kanye West / Common  Logged In     Layla      F   \n",
      "..                              ...        ...       ...    ...   \n",
      "336                       Radiohead  Logged In     Tegan      F   \n",
      "337                       Fightstar  Logged In     Wyatt      M   \n",
      "338                      Hoobastank  Logged In     Tegan      F   \n",
      "339                     Bright Eyes  Logged In     Tegan      F   \n",
      "340                    Procol Harum  Logged In     Tegan      F   \n",
      "341                       Radiohead  Logged In     Tegan      F   \n",
      "342                 Alliance Ethnik  Logged In     Tegan      F   \n",
      "343                            Muse  Logged In     Tegan      F   \n",
      "344                           Steps  Logged In     Tegan      F   \n",
      "345                      John Mayer  Logged In     Tegan      F   \n",
      "346                   Kings Of Leon  Logged In      Sean      F   \n",
      "347                      David Gray  Logged In     Tegan      F   \n",
      "348                      King Stitt  Logged In      Sean      F   \n",
      "349                        Tub Ring  Logged In     Tegan      F   \n",
      "350                             Era  Logged In     Tegan      F   \n",
      "351                            None  Logged In     Tegan      F   \n",
      "352              + / - {Plus/Minus}  Logged In     Tegan      F   \n",
      "353                 Crystal Castles  Logged In     Tegan      F   \n",
      "354           The Whitest Boy Alive  Logged In     Tegan      F   \n",
      "355               The White Stripes  Logged In     Tegan      F   \n",
      "356                     Furthermore  Logged In     Tegan      F   \n",
      "357                Eminem / Bizarre  Logged In     Tegan      F   \n",
      "358          Florence + The Machine  Logged In     Tegan      F   \n",
      "359                     Soda Stereo  Logged In    Braden      M   \n",
      "360                    Taylor Swift  Logged In     Tegan      F   \n",
      "361                            None  Logged In     Tegan      F   \n",
      "362                       Pearl Jam  Logged In     Tegan      F   \n",
      "363                 The 2 Live Crew  Logged In     Tegan      F   \n",
      "364                             311  Logged In     Tegan      F   \n",
      "365              Light Of The World  Logged In   Kynnedi      F   \n",
      "\n",
      "     itemInSession  lastName     length level  \\\n",
      "0               53     Klein  238.07955  paid   \n",
      "1               88   Griffin  151.92771  paid   \n",
      "2               89   Griffin  192.52200  paid   \n",
      "3               54     Klein  369.81506  paid   \n",
      "4               90   Griffin  223.55546  paid   \n",
      "5               91   Griffin  306.54649  paid   \n",
      "6               55     Klein  186.69669  paid   \n",
      "7               56     Klein  117.31546  paid   \n",
      "8               92   Griffin  129.67138  paid   \n",
      "9               93   Griffin  242.96444  paid   \n",
      "10              94   Griffin  242.78159  paid   \n",
      "11              95   Griffin  278.12526  paid   \n",
      "12              96   Griffin  254.06649  paid   \n",
      "13              97   Griffin  307.19955  paid   \n",
      "14              98   Griffin  239.30730  paid   \n",
      "15              99   Griffin  141.92281  paid   \n",
      "16             100   Griffin  194.82077  paid   \n",
      "17             101   Griffin  442.46159  paid   \n",
      "18             102   Griffin  302.91546  paid   \n",
      "19             103   Griffin  264.12363  paid   \n",
      "20             104   Griffin  202.39628  paid   \n",
      "21               0  Robinson  303.33342  free   \n",
      "22             105   Griffin  239.67302  paid   \n",
      "23             106   Griffin  217.54730  paid   \n",
      "24             107   Griffin  279.56200  paid   \n",
      "25             108   Griffin  245.18485  paid   \n",
      "26             109   Griffin  295.78404  paid   \n",
      "27             110   Griffin  145.03138  paid   \n",
      "28             111   Griffin  292.36200  paid   \n",
      "29             112   Griffin  237.76608  paid   \n",
      "..             ...       ...        ...   ...   \n",
      "336             16    Levine  223.00689  paid   \n",
      "337              1     Scott  212.61016  free   \n",
      "338             17    Levine  242.78159  paid   \n",
      "339             18    Levine  279.87546  paid   \n",
      "340             19    Levine  368.56118  paid   \n",
      "341             20    Levine  259.29098  paid   \n",
      "342             21    Levine  195.94404  paid   \n",
      "343             22    Levine  365.45261  paid   \n",
      "344             23    Levine  201.76934  paid   \n",
      "345             24    Levine  198.19057  paid   \n",
      "346              0    Wilson  201.79546  free   \n",
      "347             25    Levine  263.33995  paid   \n",
      "348              1    Wilson  176.27383  free   \n",
      "349             26    Levine  233.69098  paid   \n",
      "350             27    Levine  200.56771  paid   \n",
      "351             28    Levine        NaN  paid   \n",
      "352             29    Levine  318.98077  paid   \n",
      "353             30    Levine  175.51628  paid   \n",
      "354             31    Levine  234.57914  paid   \n",
      "355             32    Levine  194.48118  paid   \n",
      "356             33    Levine  211.69587  paid   \n",
      "357             34    Levine  244.55791  paid   \n",
      "358             35    Levine  185.31220  paid   \n",
      "359              0    Parker  316.73424  free   \n",
      "360             36    Levine  230.47791  paid   \n",
      "361             37    Levine        NaN  paid   \n",
      "362             38    Levine  283.89832  paid   \n",
      "363             39    Levine  188.31628  paid   \n",
      "364             40    Levine  113.26649  paid   \n",
      "365              0   Sanchez  207.07220  free   \n",
      "\n",
      "                                        location method      page  \\\n",
      "0            Tampa-St. Petersburg-Clearwater, FL    PUT  NextSong   \n",
      "1                   Lake Havasu City-Kingman, AZ    PUT  NextSong   \n",
      "2                   Lake Havasu City-Kingman, AZ    PUT  NextSong   \n",
      "3            Tampa-St. Petersburg-Clearwater, FL    PUT  NextSong   \n",
      "4                   Lake Havasu City-Kingman, AZ    PUT  NextSong   \n",
      "5                   Lake Havasu City-Kingman, AZ    PUT  NextSong   \n",
      "6            Tampa-St. Petersburg-Clearwater, FL    PUT  NextSong   \n",
      "7            Tampa-St. Petersburg-Clearwater, FL    PUT  NextSong   \n",
      "8                   Lake Havasu City-Kingman, AZ    PUT  NextSong   \n",
      "9                   Lake Havasu City-Kingman, AZ    PUT  NextSong   \n",
      "10                  Lake Havasu City-Kingman, AZ    PUT  NextSong   \n",
      "11                  Lake Havasu City-Kingman, AZ    PUT  NextSong   \n",
      "12                  Lake Havasu City-Kingman, AZ    PUT  NextSong   \n",
      "13                  Lake Havasu City-Kingman, AZ    PUT  NextSong   \n",
      "14                  Lake Havasu City-Kingman, AZ    PUT  NextSong   \n",
      "15                  Lake Havasu City-Kingman, AZ    PUT  NextSong   \n",
      "16                  Lake Havasu City-Kingman, AZ    PUT  NextSong   \n",
      "17                  Lake Havasu City-Kingman, AZ    PUT  NextSong   \n",
      "18                  Lake Havasu City-Kingman, AZ    PUT  NextSong   \n",
      "19                  Lake Havasu City-Kingman, AZ    PUT  NextSong   \n",
      "20                  Lake Havasu City-Kingman, AZ    PUT  NextSong   \n",
      "21                         New Haven-Milford, CT    PUT  NextSong   \n",
      "22                  Lake Havasu City-Kingman, AZ    PUT  NextSong   \n",
      "23                  Lake Havasu City-Kingman, AZ    PUT  NextSong   \n",
      "24                  Lake Havasu City-Kingman, AZ    PUT  NextSong   \n",
      "25                  Lake Havasu City-Kingman, AZ    PUT  NextSong   \n",
      "26                  Lake Havasu City-Kingman, AZ    PUT  NextSong   \n",
      "27                  Lake Havasu City-Kingman, AZ    PUT  NextSong   \n",
      "28                  Lake Havasu City-Kingman, AZ    PUT  NextSong   \n",
      "29                  Lake Havasu City-Kingman, AZ    PUT  NextSong   \n",
      "..                                           ...    ...       ...   \n",
      "336                  Portland-South Portland, ME    PUT  NextSong   \n",
      "337                    Eureka-Arcata-Fortuna, CA    PUT  NextSong   \n",
      "338                  Portland-South Portland, ME    PUT  NextSong   \n",
      "339                  Portland-South Portland, ME    PUT  NextSong   \n",
      "340                  Portland-South Portland, ME    PUT  NextSong   \n",
      "341                  Portland-South Portland, ME    PUT  NextSong   \n",
      "342                  Portland-South Portland, ME    PUT  NextSong   \n",
      "343                  Portland-South Portland, ME    PUT  NextSong   \n",
      "344                  Portland-South Portland, ME    PUT  NextSong   \n",
      "345                  Portland-South Portland, ME    PUT  NextSong   \n",
      "346  Philadelphia-Camden-Wilmington, PA-NJ-DE-MD    PUT  NextSong   \n",
      "347                  Portland-South Portland, ME    PUT  NextSong   \n",
      "348  Philadelphia-Camden-Wilmington, PA-NJ-DE-MD    PUT  NextSong   \n",
      "349                  Portland-South Portland, ME    PUT  NextSong   \n",
      "350                  Portland-South Portland, ME    PUT  NextSong   \n",
      "351                  Portland-South Portland, ME    GET      Home   \n",
      "352                  Portland-South Portland, ME    PUT  NextSong   \n",
      "353                  Portland-South Portland, ME    PUT  NextSong   \n",
      "354                  Portland-South Portland, ME    PUT  NextSong   \n",
      "355                  Portland-South Portland, ME    PUT  NextSong   \n",
      "356                  Portland-South Portland, ME    PUT  NextSong   \n",
      "357                  Portland-South Portland, ME    PUT  NextSong   \n",
      "358                  Portland-South Portland, ME    PUT  NextSong   \n",
      "359            Youngstown-Warren-Boardman, OH-PA    PUT  NextSong   \n",
      "360                  Portland-South Portland, ME    PUT  NextSong   \n",
      "361                  Portland-South Portland, ME    GET      Home   \n",
      "362                  Portland-South Portland, ME    PUT  NextSong   \n",
      "363                  Portland-South Portland, ME    PUT  NextSong   \n",
      "364                  Portland-South Portland, ME    PUT  NextSong   \n",
      "365                             Cedar Rapids, IA    PUT  NextSong   \n",
      "\n",
      "     registration  sessionId  \\\n",
      "0    1.540558e+12        954   \n",
      "1    1.541057e+12        984   \n",
      "2    1.541057e+12        984   \n",
      "3    1.540558e+12        954   \n",
      "4    1.541057e+12        984   \n",
      "5    1.541057e+12        984   \n",
      "6    1.540558e+12        954   \n",
      "7    1.540558e+12        954   \n",
      "8    1.541057e+12        984   \n",
      "9    1.541057e+12        984   \n",
      "10   1.541057e+12        984   \n",
      "11   1.541057e+12        984   \n",
      "12   1.541057e+12        984   \n",
      "13   1.541057e+12        984   \n",
      "14   1.541057e+12        984   \n",
      "15   1.541057e+12        984   \n",
      "16   1.541057e+12        984   \n",
      "17   1.541057e+12        984   \n",
      "18   1.541057e+12        984   \n",
      "19   1.541057e+12        984   \n",
      "20   1.541057e+12        984   \n",
      "21   1.540932e+12       1011   \n",
      "22   1.541057e+12        984   \n",
      "23   1.541057e+12        984   \n",
      "24   1.541057e+12        984   \n",
      "25   1.541057e+12        984   \n",
      "26   1.541057e+12        984   \n",
      "27   1.541057e+12        984   \n",
      "28   1.541057e+12        984   \n",
      "29   1.541057e+12        984   \n",
      "..            ...        ...   \n",
      "336  1.540794e+12       1065   \n",
      "337  1.540872e+12       1010   \n",
      "338  1.540794e+12       1065   \n",
      "339  1.540794e+12       1065   \n",
      "340  1.540794e+12       1065   \n",
      "341  1.540794e+12       1065   \n",
      "342  1.540794e+12       1065   \n",
      "343  1.540794e+12       1065   \n",
      "344  1.540794e+12       1065   \n",
      "345  1.540794e+12       1065   \n",
      "346  1.540370e+12         21   \n",
      "347  1.540794e+12       1065   \n",
      "348  1.540370e+12         21   \n",
      "349  1.540794e+12       1065   \n",
      "350  1.540794e+12       1065   \n",
      "351  1.540794e+12       1065   \n",
      "352  1.540794e+12       1065   \n",
      "353  1.540794e+12       1065   \n",
      "354  1.540794e+12       1065   \n",
      "355  1.540794e+12       1065   \n",
      "356  1.540794e+12       1065   \n",
      "357  1.540794e+12       1065   \n",
      "358  1.540794e+12       1065   \n",
      "359  1.540999e+12       1007   \n",
      "360  1.540794e+12       1065   \n",
      "361  1.540794e+12       1065   \n",
      "362  1.540794e+12       1065   \n",
      "363  1.540794e+12       1065   \n",
      "364  1.540794e+12       1065   \n",
      "365  1.541079e+12       1029   \n",
      "\n",
      "                                                  song  status             ts  \\\n",
      "0                                    Ain't No Sunshine     200  1543449657796   \n",
      "1                           My Advice 2 You (Explicit)     200  1543449690796   \n",
      "2          My First Kiss (Feat. Ke$ha) [Album Version]     200  1543449841796   \n",
      "3                               The Girl and The Robot     200  1543449895796   \n",
      "4                                              Too Shy     200  1543450033796   \n",
      "5                                            Potential     200  1543450256796   \n",
      "6            The Great Satan (What Would Satan Do Mix)     200  1543450264796   \n",
      "7                                         The Screamer     200  1543450450796   \n",
      "8                       Knife Going In (Album Version)     200  1543450562796   \n",
      "9                    The Greatest View (Album Version)     200  1543450691796   \n",
      "10         T.N.T. For The Brain (112 Bpm) (Radio Edit)     200  1543450933796   \n",
      "11                                        Mon MÃÂ©tro     200  1543451175796   \n",
      "12                                   Fly Like An Eagle     200  1543451453796   \n",
      "13                                            Restless     200  1543451707796   \n",
      "14                                      You're The One     200  1543452014796   \n",
      "15                                                Blue     200  1543452253796   \n",
      "16                                          Channel 10     200  1543452394796   \n",
      "17                        The Oak Tree (Album Version)     200  1543452588796   \n",
      "18                                       What If I Do?     200  1543453030796   \n",
      "19                                    You're Not Alone     200  1543453332796   \n",
      "20              En Glad Calypso Om VÃÂ¥ren (Live '62)     200  1543453596796   \n",
      "21   Down_ Down_ Down To Mehphisto's Cafe (Album Ve...     200  1543453763796   \n",
      "22                                       Tu Eres Ajena     200  1543453798796   \n",
      "23                                      Estadio Azteca     200  1543454037796   \n",
      "24                                             Sleeper     200  1543454254796   \n",
      "25                                               Toxic     200  1543454533796   \n",
      "26          Merry Go Round (Remastered Single Version)     200  1543454778796   \n",
      "27                               Square Peg Round Hole     200  1543455073796   \n",
      "28                                               Eqypt     200  1543455218796   \n",
      "29                                        Make Her Say     200  1543455510796   \n",
      "..                                                 ...     ...            ...   \n",
      "336                                               Sulk     200  1543527265796   \n",
      "337                                    The English Way     200  1543527268796   \n",
      "338                                     To Be With You     200  1543527488796   \n",
      "339                         Poison Oak (Album Version)     200  1543527730796   \n",
      "340                                        Grand Hotel     200  1543528009796   \n",
      "341                                       Planet Telex     200  1543528377796   \n",
      "342                           SinceritÃÂ© Et Jalousie     200  1543528636796   \n",
      "343                                           New Born     200  1543528831796   \n",
      "344                                         5_ 6_ 7_ 8     200  1543529196796   \n",
      "345                                  The Heart Of Life     200  1543529397796   \n",
      "346                                            Revelry     200  1543529417796   \n",
      "347                                      Draw The Line     200  1543529595796   \n",
      "348                   The Ugly One (AKA Lee Van Cleef)     200  1543529618796   \n",
      "349                                            Invalid     200  1543529858796   \n",
      "350                                      Cathar Rhythm     200  1543530091796   \n",
      "351                                               None     200  1543530350796   \n",
      "352                               The Queen of Nothing     200  1543530451796   \n",
      "353                                          Good Time     200  1543530769796   \n",
      "354                                            Figures     200  1543530944796   \n",
      "355                                         Bone Broke     200  1543531178796   \n",
      "356                                Are You The Walrus?     200  1543531372796   \n",
      "357                                         Amityville     200  1543531583796   \n",
      "358                         I'm Not Calling You A Liar     200  1543531827796   \n",
      "359                                             Signos     200  1543531878796   \n",
      "360                                 You Belong With Me     200  1543532012796   \n",
      "361                                               None     200  1543532195796   \n",
      "362                                     Rearviewmirror     200  1543532242796   \n",
      "363                                        Me So Horny     200  1543532525796   \n",
      "364                                               Loco     200  1543532713796   \n",
      "365  Midnight Groovin' (7\" Version) (2006 Digital R...     200  1543533515796   \n",
      "\n",
      "                                             userAgent userId  \n",
      "0    \"Mozilla/5.0 (Macintosh; Intel Mac OS X 10_9_4...     73  \n",
      "1    \"Mozilla/5.0 (Windows NT 6.1; WOW64) AppleWebK...     24  \n",
      "2    \"Mozilla/5.0 (Windows NT 6.1; WOW64) AppleWebK...     24  \n",
      "3    \"Mozilla/5.0 (Macintosh; Intel Mac OS X 10_9_4...     73  \n",
      "4    \"Mozilla/5.0 (Windows NT 6.1; WOW64) AppleWebK...     24  \n",
      "5    \"Mozilla/5.0 (Windows NT 6.1; WOW64) AppleWebK...     24  \n",
      "6    \"Mozilla/5.0 (Macintosh; Intel Mac OS X 10_9_4...     73  \n",
      "7    \"Mozilla/5.0 (Macintosh; Intel Mac OS X 10_9_4...     73  \n",
      "8    \"Mozilla/5.0 (Windows NT 6.1; WOW64) AppleWebK...     24  \n",
      "9    \"Mozilla/5.0 (Windows NT 6.1; WOW64) AppleWebK...     24  \n",
      "10   \"Mozilla/5.0 (Windows NT 6.1; WOW64) AppleWebK...     24  \n",
      "11   \"Mozilla/5.0 (Windows NT 6.1; WOW64) AppleWebK...     24  \n",
      "12   \"Mozilla/5.0 (Windows NT 6.1; WOW64) AppleWebK...     24  \n",
      "13   \"Mozilla/5.0 (Windows NT 6.1; WOW64) AppleWebK...     24  \n",
      "14   \"Mozilla/5.0 (Windows NT 6.1; WOW64) AppleWebK...     24  \n",
      "15   \"Mozilla/5.0 (Windows NT 6.1; WOW64) AppleWebK...     24  \n",
      "16   \"Mozilla/5.0 (Windows NT 6.1; WOW64) AppleWebK...     24  \n",
      "17   \"Mozilla/5.0 (Windows NT 6.1; WOW64) AppleWebK...     24  \n",
      "18   \"Mozilla/5.0 (Windows NT 6.1; WOW64) AppleWebK...     24  \n",
      "19   \"Mozilla/5.0 (Windows NT 6.1; WOW64) AppleWebK...     24  \n",
      "20   \"Mozilla/5.0 (Windows NT 6.1; WOW64) AppleWebK...     24  \n",
      "21   \"Mozilla/5.0 (Windows NT 6.3; WOW64) AppleWebK...     50  \n",
      "22   \"Mozilla/5.0 (Windows NT 6.1; WOW64) AppleWebK...     24  \n",
      "23   \"Mozilla/5.0 (Windows NT 6.1; WOW64) AppleWebK...     24  \n",
      "24   \"Mozilla/5.0 (Windows NT 6.1; WOW64) AppleWebK...     24  \n",
      "25   \"Mozilla/5.0 (Windows NT 6.1; WOW64) AppleWebK...     24  \n",
      "26   \"Mozilla/5.0 (Windows NT 6.1; WOW64) AppleWebK...     24  \n",
      "27   \"Mozilla/5.0 (Windows NT 6.1; WOW64) AppleWebK...     24  \n",
      "28   \"Mozilla/5.0 (Windows NT 6.1; WOW64) AppleWebK...     24  \n",
      "29   \"Mozilla/5.0 (Windows NT 6.1; WOW64) AppleWebK...     24  \n",
      "..                                                 ...    ...  \n",
      "336  \"Mozilla/5.0 (Macintosh; Intel Mac OS X 10_9_4...     80  \n",
      "337  Mozilla/5.0 (Windows NT 6.1; WOW64; Trident/7....      9  \n",
      "338  \"Mozilla/5.0 (Macintosh; Intel Mac OS X 10_9_4...     80  \n",
      "339  \"Mozilla/5.0 (Macintosh; Intel Mac OS X 10_9_4...     80  \n",
      "340  \"Mozilla/5.0 (Macintosh; Intel Mac OS X 10_9_4...     80  \n",
      "341  \"Mozilla/5.0 (Macintosh; Intel Mac OS X 10_9_4...     80  \n",
      "342  \"Mozilla/5.0 (Macintosh; Intel Mac OS X 10_9_4...     80  \n",
      "343  \"Mozilla/5.0 (Macintosh; Intel Mac OS X 10_9_4...     80  \n",
      "344  \"Mozilla/5.0 (Macintosh; Intel Mac OS X 10_9_4...     80  \n",
      "345  \"Mozilla/5.0 (Macintosh; Intel Mac OS X 10_9_4...     80  \n",
      "346  \"Mozilla/5.0 (Windows NT 6.1; WOW64) AppleWebK...     22  \n",
      "347  \"Mozilla/5.0 (Macintosh; Intel Mac OS X 10_9_4...     80  \n",
      "348  \"Mozilla/5.0 (Windows NT 6.1; WOW64) AppleWebK...     22  \n",
      "349  \"Mozilla/5.0 (Macintosh; Intel Mac OS X 10_9_4...     80  \n",
      "350  \"Mozilla/5.0 (Macintosh; Intel Mac OS X 10_9_4...     80  \n",
      "351  \"Mozilla/5.0 (Macintosh; Intel Mac OS X 10_9_4...     80  \n",
      "352  \"Mozilla/5.0 (Macintosh; Intel Mac OS X 10_9_4...     80  \n",
      "353  \"Mozilla/5.0 (Macintosh; Intel Mac OS X 10_9_4...     80  \n",
      "354  \"Mozilla/5.0 (Macintosh; Intel Mac OS X 10_9_4...     80  \n",
      "355  \"Mozilla/5.0 (Macintosh; Intel Mac OS X 10_9_4...     80  \n",
      "356  \"Mozilla/5.0 (Macintosh; Intel Mac OS X 10_9_4...     80  \n",
      "357  \"Mozilla/5.0 (Macintosh; Intel Mac OS X 10_9_4...     80  \n",
      "358  \"Mozilla/5.0 (Macintosh; Intel Mac OS X 10_9_4...     80  \n",
      "359  \"Mozilla/5.0 (Windows NT 6.1; WOW64) AppleWebK...     74  \n",
      "360  \"Mozilla/5.0 (Macintosh; Intel Mac OS X 10_9_4...     80  \n",
      "361  \"Mozilla/5.0 (Macintosh; Intel Mac OS X 10_9_4...     80  \n",
      "362  \"Mozilla/5.0 (Macintosh; Intel Mac OS X 10_9_4...     80  \n",
      "363  \"Mozilla/5.0 (Macintosh; Intel Mac OS X 10_9_4...     80  \n",
      "364  \"Mozilla/5.0 (Macintosh; Intel Mac OS X 10_9_4...     80  \n",
      "365  \"Mozilla/5.0 (Macintosh; Intel Mac OS X 10_8_5...     89  \n",
      "\n",
      "[366 rows x 18 columns]\n"
     ]
    }
   ],
   "source": [
    "print(df)\n",
    "\n",
    "for index, row in df.iterrows():\n",
    "\n",
    "    # get songid and artistid from song and artist tables\n",
    "    cur.execute(song_select, (row.song, row.artist, row.length))\n",
    "    results = cur.fetchone()\n",
    "    \n",
    "    if results:\n",
    "        songid, artistid = results\n",
    "    else:\n",
    "        songid, artistid = None, None\n",
    "\n",
    "    # insert songplay record\n",
    "    start_time = pd.to_datetime(row.ts, unit='ms').strftime('%Y-%m-%d %I:%M:%S')\n",
    "    songplay_data = (start_time, row.userId, row.level, str(songid), str(artistid), row.sessionId, row.location, row.userAgent)\n",
    "    #print(songplay_data)\n",
    "    cur.execute(songplay_table_insert, songplay_data)\n",
    "    conn.commit()"
   ]
  },
  {
   "cell_type": "markdown",
   "metadata": {
    "editable": true
   },
   "source": [
    "Run `test.ipynb` to see if you've successfully added records to this table."
   ]
  },
  {
   "cell_type": "markdown",
   "metadata": {
    "editable": true
   },
   "source": [
    "# Close Connection to Sparkify Database"
   ]
  },
  {
   "cell_type": "code",
   "execution_count": 1,
   "metadata": {
    "editable": true
   },
   "outputs": [
    {
     "ename": "NameError",
     "evalue": "name 'conn' is not defined",
     "output_type": "error",
     "traceback": [
      "\u001b[0;31m---------------------------------------------------------------------------\u001b[0m",
      "\u001b[0;31mNameError\u001b[0m                                 Traceback (most recent call last)",
      "\u001b[0;32m<ipython-input-1-8dd0cd799055>\u001b[0m in \u001b[0;36m<module>\u001b[0;34m()\u001b[0m\n\u001b[0;32m----> 1\u001b[0;31m \u001b[0mconn\u001b[0m\u001b[0;34m.\u001b[0m\u001b[0mclose\u001b[0m\u001b[0;34m(\u001b[0m\u001b[0;34m)\u001b[0m\u001b[0;34m\u001b[0m\u001b[0m\n\u001b[0m",
      "\u001b[0;31mNameError\u001b[0m: name 'conn' is not defined"
     ]
    }
   ],
   "source": [
    "conn.close()"
   ]
  },
  {
   "cell_type": "markdown",
   "metadata": {
    "editable": true
   },
   "source": [
    "# Implement `etl.py`\n",
    "Use what you've completed in this notebook to implement `etl.py`."
   ]
  },
  {
   "cell_type": "code",
   "execution_count": null,
   "metadata": {
    "editable": true
   },
   "outputs": [],
   "source": []
  }
 ],
 "metadata": {
  "kernelspec": {
   "display_name": "Python 3",
   "language": "python",
   "name": "python3"
  },
  "language_info": {
   "codemirror_mode": {
    "name": "ipython",
    "version": 3
   },
   "file_extension": ".py",
   "mimetype": "text/x-python",
   "name": "python",
   "nbconvert_exporter": "python",
   "pygments_lexer": "ipython3",
   "version": "3.6.3"
  }
 },
 "nbformat": 4,
 "nbformat_minor": 4
}
